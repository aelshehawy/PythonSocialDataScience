{
  "cells": [
    {
      "cell_type": "markdown",
      "metadata": {
        "id": "view-in-github",
        "colab_type": "text"
      },
      "source": [
        "<a href=\"https://colab.research.google.com/github/aelshehawy/PythonSocialDataScience/blob/main/Session_1_Python23.ipynb\" target=\"_parent\"><img src=\"https://colab.research.google.com/assets/colab-badge.svg\" alt=\"Open In Colab\"/></a>"
      ]
    },
    {
      "cell_type": "markdown",
      "metadata": {
        "id": "gdEwECFbHTAI"
      },
      "source": [
        "# **Welcome to Python/QTA Class in Trinity 22**\n",
        "\n",
        "\n"
      ]
    },
    {
      "cell_type": "markdown",
      "source": [
        "# Python Session 1"
      ],
      "metadata": {
        "id": "YdgLOqd_r9hS"
      }
    },
    {
      "cell_type": "code",
      "source": [
        "from IPython.display import Image\n",
        "Image(url='https://media.giphy.com/media/gG9fVWJdN41NeiHhzk/giphy.gif')"
      ],
      "metadata": {
        "id": "p1znA3btkv77",
        "colab": {
          "base_uri": "https://localhost:8080/",
          "height": 162
        },
        "outputId": "23bd8e4f-0776-4b73-8007-33f80905b108"
      },
      "execution_count": null,
      "outputs": [
        {
          "output_type": "execute_result",
          "data": {
            "text/html": [
              "<img src=\"https://media.giphy.com/media/gG9fVWJdN41NeiHhzk/giphy.gif\"/>"
            ],
            "text/plain": [
              "<IPython.core.display.Image object>"
            ]
          },
          "metadata": {},
          "execution_count": 1
        }
      ]
    },
    {
      "cell_type": "markdown",
      "source": [
        "Load this code to be able to access data from your Google Drive, this gives permission to Colab to get files/data. Will be super useful in our next sessions."
      ],
      "metadata": {
        "id": "IoUX28f4sDb3"
      }
    },
    {
      "cell_type": "code",
      "source": [
        "from google.colab import drive\n",
        "drive.mount('/content/drive')"
      ],
      "metadata": {
        "id": "6PNyth1iJQj7"
      },
      "execution_count": null,
      "outputs": []
    },
    {
      "cell_type": "markdown",
      "metadata": {
        "id": "aolyrB1SHTAO"
      },
      "source": [
        "# Organizational"
      ]
    },
    {
      "cell_type": "markdown",
      "metadata": {
        "id": "TS05FBQpHTAO"
      },
      "source": [
        "- Class Overview\n",
        "- Class Times and Class Structure\n",
        "- Presentations and Python Lab\n",
        "- Introductions\n",
        "- Questions: Ashrakat.elshehawy@politics.ox.ac.uk"
      ]
    },
    {
      "cell_type": "code",
      "source": [
        "\n",
        "from IPython.display import Image\n",
        "Image(url='https://media.giphy.com/media/dUNNnf1vwvhRuGCBMb/giphy.gif')"
      ],
      "metadata": {
        "id": "1sADw-8JHO-P",
        "colab": {
          "base_uri": "https://localhost:8080/",
          "height": 291
        },
        "outputId": "c4a7a1eb-ff63-43de-832b-fcc7f1830e6f"
      },
      "execution_count": null,
      "outputs": [
        {
          "output_type": "execute_result",
          "data": {
            "text/html": [
              "<img src=\"https://media.giphy.com/media/dUNNnf1vwvhRuGCBMb/giphy.gif\"/>"
            ],
            "text/plain": [
              "<IPython.core.display.Image object>"
            ]
          },
          "metadata": {},
          "execution_count": 2
        }
      ]
    },
    {
      "cell_type": "markdown",
      "metadata": {
        "id": "rTzYMYslqrbv"
      },
      "source": [
        "# Github\n",
        "\n",
        "**Why use GitHub?**\n",
        "\n",
        "- Open Source\n",
        "- Have your code reviewed by the community\n",
        "- Give your projects visibility\n",
        "- Collaborate and track changes for your code visibly\n",
        "- Newsfeed with latest updates - You can  see what changes have been made in any other repositories you follow. \n",
        "- Explore repositories -  On the right of your dashboard, you can locate suggested repositories to follow — these suggestions are based on repositories you have followed or starrted."
      ]
    },
    {
      "cell_type": "markdown",
      "metadata": {
        "id": "SBrwX_Cqqrbw"
      },
      "source": [
        "**How do we use Github?**\n",
        "\n",
        "- Fork a rep: Create a new project based on a project that already exists - you can fork our repository to have a copy in your profile that you can edit https:/https://github.com/aelshehawy/PythonSocialDataScience <br>\n",
        "Use fork to work on new features and submit pull requests containing your new changes to the original repository.\n",
        "- Pull Request:  Authors of the original repository can see your work & choose if they want to accept it to the official project.\n",
        "- Star: Bookmark repository\n",
        "- Desktop version is really nice, you can work on your computer, have a local copy of ' repositories, fetch updates from their "
      ]
    },
    {
      "cell_type": "markdown",
      "metadata": {
        "id": "AsNVbtEjqrbw"
      },
      "source": [
        "**Download our data for the class**\n",
        "\n",
        "You can download the whole repository with one click: https://github.com/aelshehawy/PythonSocialDataScience\n",
        "\n",
        "If you wanna download a specific Python sheet or csv file\n",
        "\n",
        "1. First click on Raw\n",
        "2. Then, press ctrl+s to save it as **.ipynb** or **csv**\n",
        "\n",
        "**I recommend using GitHub Desktop:**\n",
        "if you have forked our class's repository, then clone my repository on your computer and keep fetching changes.\n",
        "\n",
        "**Just explore and play with GitHub whe you have time**"
      ]
    },
    {
      "cell_type": "markdown",
      "metadata": {
        "id": "NA5ahqc7HTAP"
      },
      "source": [
        "# Install Jupyter Notebooks on your Local Drive"
      ]
    },
    {
      "cell_type": "markdown",
      "metadata": {
        "id": "QwJ1voyNHTAQ"
      },
      "source": [
        "What is a Jupyter Notebook:\n",
        "\n",
        " \"Jupyter Notebook is an open-source web application that allows you to create and share documents that contain live code, equations, visualizations and narrative text.\"\n",
        "\n",
        "_We will use Anaconda_ https://www.anaconda.com/products/distribution\n"
      ]
    },
    {
      "cell_type": "markdown",
      "metadata": {
        "id": "m90iWfa5HTAQ"
      },
      "source": [
        "in your terminal please enter:\n",
        "\n",
        "``pip install jupyterlab``\n",
        "\n",
        "if that doesnt work try:\n",
        "\n",
        "``conda install -c conda-forge jupyterlab``\n"
      ]
    },
    {
      "cell_type": "markdown",
      "metadata": {
        "id": "DWj_K5852UEV"
      },
      "source": [
        "# Google Colab Sheets\n",
        "\n",
        "- Can be used with browsers like Chrome of Firefox\n",
        "- Saves installation time and effort. Easily use available libraries.\n",
        "- All your notebooks can be saved directly in your Google Drive\n",
        "- Excellent for collaborations!\n",
        "- Check this link for more information https://colab.research.google.com/notebooks/basic_features_overview.ipynb"
      ]
    },
    {
      "cell_type": "markdown",
      "metadata": {
        "id": "O2u-LakX4UaF"
      },
      "source": [
        "### So how does it work?\n",
        "\n",
        "1. To create a new cell you click +\n",
        "2. To run a cell you need to press the play button\n",
        "3. You can create cells where you write text by clicking on the + Text button. Here is a cheat sheet [link](https://github.com/adam-p/markdown-here/wiki/Markdown-Cheatsheet) for markdown, probably you have already used it in R. \n",
        "4. If you need to clear everything that is saved in a python notebook (remove saved variables/data etc.). You can click on Edit and choose **clear all output**\n",
        "6. Save notebooks on your Google Drive - Don't forget!\n",
        "7. Useful Shortcuts under Tools: Example: Control m m will convert a code cell to a text cell. Control m y will convert a text cell to a code cell."
      ]
    },
    {
      "cell_type": "code",
      "source": [
        "1+2"
      ],
      "metadata": {
        "id": "YQlIJwJ9Y8hz"
      },
      "execution_count": null,
      "outputs": []
    },
    {
      "cell_type": "markdown",
      "metadata": {
        "id": "jjut3fVbHTAW"
      },
      "source": [
        "# What are we learning in this Python session today\n",
        "\n",
        "Mainly: Basic Operations of Python\n",
        "\n",
        "* Python Interactive Shell: Print Function\n",
        "* Assigning Variables and Values\n",
        "* Understanding Different Types of Objects in Python\n",
        "* Mathematical Operations\n",
        "* Boolean Operations \n",
        "* Transformation of Objects\n",
        "* Input function \n",
        "* Understanding Python Strings\n",
        "* Combining Objects\n",
        "* Libraries in Python\n",
        "* Data Structures and Container"
      ]
    },
    {
      "cell_type": "markdown",
      "metadata": {
        "id": "ijW8C9OkHTAX"
      },
      "source": [
        "# Python Interactive Shell"
      ]
    },
    {
      "cell_type": "markdown",
      "metadata": {
        "id": "tJBmww7lHTAX"
      },
      "source": [
        "### The print function\n",
        "Here you can use print() built in function for python to print strings, intergers etc. <br>\n",
        "To print a string you need to wrap it in \" \""
      ]
    },
    {
      "cell_type": "markdown",
      "metadata": {
        "id": "Jyh5v8UmHTAb"
      },
      "source": [
        "### Assign variable values\n",
        "here we save a value inside of a variable - exactly as we do with other statistical programmes like R and Stata"
      ]
    },
    {
      "cell_type": "code",
      "execution_count": null,
      "metadata": {
        "collapsed": true,
        "id": "RLu84-oqHTAc"
      },
      "outputs": [],
      "source": [
        "welcome"
      ]
    },
    {
      "cell_type": "markdown",
      "metadata": {
        "id": "G3WHiT6PHTAc"
      },
      "source": [
        "as we saved the string within the variable welcome, we can use python's built in function print() to see what we have saved"
      ]
    },
    {
      "cell_type": "markdown",
      "metadata": {
        "id": "Q-J2V1hkHTAd"
      },
      "source": [
        "Same goes with intergers and calculations"
      ]
    },
    {
      "cell_type": "code",
      "execution_count": null,
      "metadata": {
        "collapsed": true,
        "id": "tWM4LJOmHTAd"
      },
      "outputs": [],
      "source": [
        "calculation "
      ]
    },
    {
      "cell_type": "code",
      "execution_count": null,
      "metadata": {
        "id": "2hI2qoRxHTAd"
      },
      "outputs": [],
      "source": []
    },
    {
      "cell_type": "markdown",
      "metadata": {
        "id": "tWP_pA2sHTAd"
      },
      "source": [
        "**Take care of overwritting**"
      ]
    },
    {
      "cell_type": "code",
      "execution_count": null,
      "metadata": {
        "id": "j2rdss40HTAd"
      },
      "outputs": [],
      "source": []
    },
    {
      "cell_type": "markdown",
      "metadata": {
        "id": "KX9tpbLRHTAe"
      },
      "source": [
        "using variables that we have already assigned"
      ]
    },
    {
      "cell_type": "markdown",
      "metadata": {
        "id": "vYenaUAMHTAg"
      },
      "source": [
        "# What type of Object are we using?"
      ]
    },
    {
      "cell_type": "markdown",
      "metadata": {
        "id": "N3ssE3_1HTAi"
      },
      "source": [
        "# Maths"
      ]
    },
    {
      "cell_type": "markdown",
      "metadata": {
        "id": "tUmb3F_wqrb_"
      },
      "source": [
        "# Boolean operations\n",
        "\n",
        "In programming you often need to know if an expression is True or False.\n",
        "\n",
        "When you compare two values, the expression is evaluated and Python returns the Boolean answer:\n",
        "\n"
      ]
    },
    {
      "cell_type": "markdown",
      "metadata": {
        "id": "yk6b24y-HTAk"
      },
      "source": [
        "# Transform Objects"
      ]
    },
    {
      "cell_type": "markdown",
      "metadata": {
        "id": "wjfXpWIiHTAl"
      },
      "source": [
        "# Input from keyboard"
      ]
    },
    {
      "cell_type": "markdown",
      "metadata": {
        "id": "jBPWWqmFbopc"
      },
      "source": [
        "# Combining objects\n"
      ]
    },
    {
      "cell_type": "markdown",
      "metadata": {
        "id": "g8Qcp-Ebbopr"
      },
      "source": [
        "# Understanding Python Strings"
      ]
    },
    {
      "cell_type": "markdown",
      "metadata": {
        "id": "vtl5qXiKbops"
      },
      "source": [
        "Inputting a string"
      ]
    },
    {
      "cell_type": "code",
      "execution_count": null,
      "metadata": {
        "id": "ofJFIPxzbopv"
      },
      "outputs": [],
      "source": []
    },
    {
      "cell_type": "markdown",
      "metadata": {
        "id": "CwtQvfv0bopw"
      },
      "source": [
        "what if we wanna make sure if there is a specific word in the saved string?\n"
      ]
    },
    {
      "cell_type": "code",
      "execution_count": 1,
      "metadata": {
        "id": "-0ZUmHahbopx"
      },
      "outputs": [],
      "source": []
    },
    {
      "cell_type": "code",
      "execution_count": 1,
      "metadata": {
        "id": "WT5UZtMebopx"
      },
      "outputs": [],
      "source": []
    },
    {
      "cell_type": "markdown",
      "metadata": {
        "id": "NC9wuKOQbop0"
      },
      "source": [
        "# Manipulate string"
      ]
    },
    {
      "cell_type": "markdown",
      "metadata": {
        "id": "r7TVKxbYbop4"
      },
      "source": [
        "#### Strip space"
      ]
    },
    {
      "cell_type": "markdown",
      "metadata": {
        "id": "xz03j3vJbop7"
      },
      "source": [
        "#### Count number of words and letters"
      ]
    },
    {
      "cell_type": "markdown",
      "metadata": {
        "id": "3-bIGrB4bop-"
      },
      "source": [
        "# Libraries in Python"
      ]
    },
    {
      "cell_type": "markdown",
      "metadata": {
        "id": "pUqi5F_nbop_"
      },
      "source": [
        "Usually you enter in terminal ``pip install [project name]``, best is to check source documentation of project. <br\\>\n",
        "Example: https://pypi.org/project/Counter/"
      ]
    },
    {
      "cell_type": "code",
      "execution_count": null,
      "metadata": {
        "id": "_ZfnQfeMbop_",
        "colab": {
          "base_uri": "https://localhost:8080/"
        },
        "outputId": "0750dced-b69b-47cb-f9af-7709456a9bda"
      },
      "outputs": [
        {
          "output_type": "execute_result",
          "data": {
            "text/plain": [
              "Counter({' ': 2,\n",
              "         'O': 1,\n",
              "         'U': 1,\n",
              "         'd': 1,\n",
              "         'e': 1,\n",
              "         'f': 2,\n",
              "         'i': 2,\n",
              "         'n': 1,\n",
              "         'o': 2,\n",
              "         'r': 2,\n",
              "         's': 1,\n",
              "         't': 1,\n",
              "         'v': 1,\n",
              "         'x': 1,\n",
              "         'y': 1})"
            ]
          },
          "metadata": {},
          "execution_count": 123
        }
      ],
      "source": [
        "# you need a library to count faster, this is a very powerful library that we wil use in the future\n"
      ]
    },
    {
      "cell_type": "code",
      "source": [
        "\n"
      ],
      "metadata": {
        "id": "2OQF_XwVeChz",
        "colab": {
          "base_uri": "https://localhost:8080/"
        },
        "outputId": "13929d19-5945-45e0-febf-98356e410fd4"
      },
      "execution_count": null,
      "outputs": [
        {
          "output_type": "execute_result",
          "data": {
            "text/plain": [
              "Counter({'Oxford': 1, 'University': 1, 'of': 1})"
            ]
          },
          "metadata": {},
          "execution_count": 124
        }
      ]
    },
    {
      "cell_type": "markdown",
      "metadata": {
        "id": "2gDFH22lbop_"
      },
      "source": [
        "# Data Structures in Python"
      ]
    },
    {
      "cell_type": "markdown",
      "metadata": {
        "id": "qmTCjAnKboqA"
      },
      "source": [
        "### Lists\n",
        "\n",
        "ordered, changable, allows duplicated items"
      ]
    },
    {
      "cell_type": "markdown",
      "source": [
        "create empty list"
      ],
      "metadata": {
        "id": "EViiGhy1EX9p"
      }
    },
    {
      "cell_type": "code",
      "source": [
        "# Create an empty list to hold our users.\n",
        "usernames = []\n",
        "print(usernames)\n"
      ],
      "metadata": {
        "colab": {
          "base_uri": "https://localhost:8080/"
        },
        "id": "yG1Ug2vtEaKl",
        "outputId": "8ae51e54-de31-424f-95f1-1010f3a49b89"
      },
      "execution_count": null,
      "outputs": [
        {
          "output_type": "stream",
          "name": "stdout",
          "text": [
            "[]\n"
          ]
        }
      ]
    },
    {
      "cell_type": "markdown",
      "source": [
        "creating lists and checking length"
      ],
      "metadata": {
        "id": "8a1WJ7nHEmsT"
      }
    },
    {
      "cell_type": "markdown",
      "source": [
        "insert list item"
      ],
      "metadata": {
        "id": "tur4fUMVExuJ"
      }
    },
    {
      "cell_type": "markdown",
      "source": [
        "modifying list elements"
      ],
      "metadata": {
        "id": "5cFfqtRnFR42"
      }
    },
    {
      "cell_type": "markdown",
      "metadata": {
        "id": "Svth87UCboqB"
      },
      "source": [
        "**VERY IMPORTANT** In Python counting of items/observations always starts with 0"
      ]
    },
    {
      "cell_type": "markdown",
      "source": [
        "access list items"
      ],
      "metadata": {
        "id": "w-SHhhl8E_z4"
      }
    },
    {
      "cell_type": "code",
      "execution_count": null,
      "metadata": {
        "id": "lbx37rLDboqC"
      },
      "outputs": [],
      "source": [
        "#select items\n"
      ]
    },
    {
      "cell_type": "code",
      "execution_count": null,
      "metadata": {
        "id": "H7hG9IgxboqE",
        "colab": {
          "base_uri": "https://localhost:8080/"
        },
        "outputId": "d138491e-1164-4732-8005-3a14d5543797"
      },
      "outputs": [
        {
          "output_type": "execute_result",
          "data": {
            "text/plain": [
              "['backing', 'lockdown']"
            ]
          },
          "metadata": {},
          "execution_count": 140
        }
      ],
      "source": [
        "#select range, slice slice\n"
      ]
    },
    {
      "cell_type": "code",
      "source": [
        "#accessing last item\n"
      ],
      "metadata": {
        "colab": {
          "base_uri": "https://localhost:8080/"
        },
        "id": "uFfpOI57FhYG",
        "outputId": "bd23e201-78ae-4938-e65a-6f97fd9ebbd1"
      },
      "execution_count": null,
      "outputs": [
        {
          "output_type": "stream",
          "name": "stdout",
          "text": [
            "['backing', 'lockdown', 'masking', 'zoom', 'productiveness', 'instagram', 'netflix', 'social distancing']\n",
            "social distancing\n",
            "Social Distancing\n"
          ]
        }
      ]
    },
    {
      "cell_type": "markdown",
      "source": [
        "sort numerical list"
      ],
      "metadata": {
        "id": "bfHj1fy9EHRz"
      }
    },
    {
      "cell_type": "code",
      "source": [
        "numbers = [1, 3, 4, 2]\n",
        "\n",
        "# sort() puts numbers in increasing order.\n"
      ],
      "metadata": {
        "colab": {
          "base_uri": "https://localhost:8080/"
        },
        "id": "XWK0XYY4EGdK",
        "outputId": "b1a2acca-bdba-4ad2-fd91-c022a8f000b3"
      },
      "execution_count": null,
      "outputs": [
        {
          "output_type": "stream",
          "name": "stdout",
          "text": [
            "[1, 2, 3, 4]\n"
          ]
        }
      ]
    },
    {
      "cell_type": "code",
      "source": [
        "\n",
        "# The reverse() function also works for numerical lists.\n"
      ],
      "metadata": {
        "colab": {
          "base_uri": "https://localhost:8080/"
        },
        "id": "aXSFGabeELkU",
        "outputId": "de912c82-7cd9-47a1-b7bf-8287c14ea645"
      },
      "execution_count": null,
      "outputs": [
        {
          "output_type": "stream",
          "name": "stdout",
          "text": [
            "[2, 4, 3, 1]\n"
          ]
        }
      ]
    },
    {
      "cell_type": "markdown",
      "source": [
        "removing items by value\n",
        "\n",
        "Be careful: only the first item with this value is removed. If you have multiple items with the same value, you will have some items with this value left in your list.\n",
        "\n"
      ],
      "metadata": {
        "id": "iGjPWQQ0Dasi"
      }
    },
    {
      "cell_type": "code",
      "source": [
        "letters = ['a', 'b', 'c', 'a', 'b', 'c']\n",
        "# Remove the letter a from the list.\n"
      ],
      "metadata": {
        "colab": {
          "base_uri": "https://localhost:8080/"
        },
        "id": "ibSb8QgxDdPu",
        "outputId": "81add888-564f-4141-eab8-6e8433849eab"
      },
      "execution_count": null,
      "outputs": [
        {
          "output_type": "stream",
          "name": "stdout",
          "text": [
            "['b', 'c', 'a', 'b', 'c']\n"
          ]
        }
      ]
    },
    {
      "cell_type": "markdown",
      "source": [
        "Popping items from list:\n",
        "\n",
        "The pop() function removes the last item from the list, and gives it to us so we can work with it. \n",
        "\n",
        "This is easier to show with an example:"
      ],
      "metadata": {
        "id": "m3m3TZkUC2dX"
      }
    },
    {
      "cell_type": "code",
      "source": [
        "beach = ['sun', 'sand', 'waves']\n"
      ],
      "metadata": {
        "colab": {
          "base_uri": "https://localhost:8080/"
        },
        "id": "1geQR8BVC59I",
        "outputId": "71f92c94-9429-416b-daa2-bf1358070fb1"
      },
      "execution_count": null,
      "outputs": [
        {
          "output_type": "stream",
          "name": "stdout",
          "text": [
            "waves\n",
            "['sun', 'sand']\n"
          ]
        }
      ]
    },
    {
      "cell_type": "code",
      "source": [
        "beach = ['sun', 'sand', 'waves']\n"
      ],
      "metadata": {
        "colab": {
          "base_uri": "https://localhost:8080/"
        },
        "id": "pUL8AvC2DUo0",
        "outputId": "f5bf9c59-0c85-4f73-bd28-3ed0140671e1"
      },
      "execution_count": null,
      "outputs": [
        {
          "output_type": "stream",
          "name": "stdout",
          "text": [
            "sun\n",
            "['sand', 'waves']\n"
          ]
        }
      ]
    },
    {
      "cell_type": "markdown",
      "source": [
        "min, max, sum in lists"
      ],
      "metadata": {
        "id": "N1P4poK2CoyE"
      }
    },
    {
      "cell_type": "code",
      "source": [
        "ages = [23, 16, 14, 28, 19, 11, 38]\n",
        "\n"
      ],
      "metadata": {
        "id": "8XCTVhHtCnrO",
        "colab": {
          "base_uri": "https://localhost:8080/"
        },
        "outputId": "48ef6131-6a80-4b8f-b0e1-77fd497807a7"
      },
      "execution_count": null,
      "outputs": [
        {
          "output_type": "stream",
          "name": "stdout",
          "text": [
            "11\n",
            "38\n",
            "149\n"
          ]
        }
      ]
    },
    {
      "cell_type": "markdown",
      "source": [
        "item in list?"
      ],
      "metadata": {
        "id": "X2z0OyYhFH13"
      }
    },
    {
      "cell_type": "code",
      "source": [
        "print()\n"
      ],
      "metadata": {
        "colab": {
          "base_uri": "https://localhost:8080/"
        },
        "id": "nepG3Z-CFJjT",
        "outputId": "d5b3c913-c69d-40ba-f071-4813e0954fb7"
      },
      "execution_count": null,
      "outputs": [
        {
          "output_type": "stream",
          "name": "stdout",
          "text": [
            "True\n"
          ]
        }
      ]
    },
    {
      "cell_type": "markdown",
      "metadata": {
        "id": "ZXYj20JcboqG"
      },
      "source": [
        "### Dictionaries"
      ]
    },
    {
      "cell_type": "markdown",
      "metadata": {
        "id": "gMGEBPsVboqG"
      },
      "source": [
        "A dictionary has a key and a corresponding value"
      ]
    },
    {
      "cell_type": "markdown",
      "metadata": {
        "id": "PEXjsV05boqG"
      },
      "source": [
        "How to create a dictionary"
      ]
    },
    {
      "cell_type": "markdown",
      "metadata": {
        "id": "cMY68xXWboqN"
      },
      "source": [
        "Add first item to the dictionary, dictionary keys should always be unique"
      ]
    },
    {
      "cell_type": "markdown",
      "metadata": {
        "id": "cSbr52f4boqO"
      },
      "source": [
        "Access key,item in a dictionary"
      ]
    },
    {
      "cell_type": "markdown",
      "metadata": {
        "id": "wZ5OTvExboqP"
      },
      "source": [
        "### Tuples\n",
        "\n",
        "- immutable sequence of Python objects - you cannot update or change the values of tuple elements\n",
        "- their advantage is that they have a fixed value"
      ]
    },
    {
      "cell_type": "markdown",
      "metadata": {
        "id": "XzH6PsSGboqQ"
      },
      "source": [
        "create tuple of one value, you always need a comma at the end"
      ]
    },
    {
      "cell_type": "markdown",
      "metadata": {
        "id": "_GB31N87boqQ"
      },
      "source": [
        "you can access values"
      ]
    },
    {
      "cell_type": "markdown",
      "metadata": {
        "id": "LPHb7LhpboqS"
      },
      "source": [
        "you can not modify within tuples, but you can concate different tuples"
      ]
    },
    {
      "cell_type": "markdown",
      "metadata": {
        "id": "32aRJz6mboqT"
      },
      "source": [
        "you can not modify within tuples, but you can repeat tuples in a new tuple"
      ]
    },
    {
      "cell_type": "markdown",
      "source": [
        "If you try to add something to a tuple, you will get an error:\n",
        "\n"
      ],
      "metadata": {
        "id": "hWCpTnKQB_EU"
      }
    },
    {
      "cell_type": "markdown",
      "source": [
        "The same kind of thing happens when you try to remove something from a tuple, or modify one of its elements. Once you define a tuple, you can be confident that its values will not change.\n",
        "\n"
      ],
      "metadata": {
        "id": "bFmLfLmqB_jl"
      }
    },
    {
      "cell_type": "markdown",
      "metadata": {
        "id": "API-Np2RboqY"
      },
      "source": [
        "you can check membership"
      ]
    },
    {
      "cell_type": "markdown",
      "source": [
        "tuples are immutable,  the value in the tuple will never change"
      ],
      "metadata": {
        "id": "04cwzlwQrlvB"
      }
    },
    {
      "cell_type": "markdown",
      "metadata": {
        "id": "eFbazrdkboqZ"
      },
      "source": [
        "### Sets\n",
        "\n",
        "What is a set? It is an unordered collection of items. You can not be sure in which order the items will appear.\n",
        "\n",
        "Elements of the set:\n",
        "1. must be unique - doesnt allow for duplicate elements\n",
        "2. elemenets can not be changed (you can not access items by refering to an index, as done in lists)\n",
        "\n",
        "The set as a whole is mutable, we can add and remove items from it\n",
        "\n",
        "Usually sets are used to for mathematical operations like, union and intersection"
      ]
    },
    {
      "cell_type": "code",
      "execution_count": null,
      "metadata": {
        "id": "lPHk2QJTboqZ",
        "colab": {
          "base_uri": "https://localhost:8080/"
        },
        "outputId": "60d101c3-99d2-4c40-fc3f-e002791b214f"
      },
      "outputs": [
        {
          "output_type": "stream",
          "name": "stdout",
          "text": [
            "{2, 3, 100, 8, 13, 20}\n",
            "{2, 3, 'apple', 'orange'}\n"
          ]
        }
      ],
      "source": [
        "#creation of sets\n",
        "\n"
      ]
    },
    {
      "cell_type": "code",
      "execution_count": null,
      "metadata": {
        "id": "xyyzZjLpboqZ",
        "colab": {
          "base_uri": "https://localhost:8080/"
        },
        "outputId": "f6954958-4c1a-4320-d01f-3d390d4a4c97"
      },
      "outputs": [
        {
          "output_type": "stream",
          "name": "stdout",
          "text": [
            "{2, 3, 100, 8, 13, 20}\n"
          ]
        }
      ],
      "source": [
        "# no duplication allowed\n"
      ]
    },
    {
      "cell_type": "code",
      "execution_count": null,
      "metadata": {
        "id": "XiiK-umZboqa",
        "colab": {
          "base_uri": "https://localhost:8080/"
        },
        "outputId": "7dd8f448-392e-49fb-92ef-078187cb1eff"
      },
      "outputs": [
        {
          "output_type": "stream",
          "name": "stdout",
          "text": [
            "{8, 33, 20, 400}\n",
            "<class 'set'>\n"
          ]
        }
      ],
      "source": [
        "# transform a list to a set\n",
        "\n"
      ]
    },
    {
      "cell_type": "code",
      "execution_count": null,
      "metadata": {
        "id": "s1_ycAt3boqa",
        "colab": {
          "base_uri": "https://localhost:8080/"
        },
        "outputId": "749b8778-433f-4ac9-e364-71cdd5f16dba"
      },
      "outputs": [
        {
          "output_type": "stream",
          "name": "stdout",
          "text": [
            "{33, 2, 8, 400, 20}\n"
          ]
        }
      ],
      "source": [
        "#mutability of set\n",
        "\n",
        "#add an item\n"
      ]
    },
    {
      "cell_type": "code",
      "execution_count": null,
      "metadata": {
        "id": "T7dKqLF3boqb",
        "outputId": "89981e96-30f7-4a16-be2a-d4c48ea4a88a",
        "colab": {
          "base_uri": "https://localhost:8080/"
        }
      },
      "outputs": [
        {
          "output_type": "stream",
          "name": "stdout",
          "text": [
            "{33, 2, 100, 5, 6, 8, 400, 20}\n"
          ]
        }
      ],
      "source": [
        "#to add more than one item you use update\n"
      ]
    },
    {
      "cell_type": "code",
      "execution_count": null,
      "metadata": {
        "id": "MR63XrFAboqc",
        "outputId": "cbae5882-971e-4110-9fda-126434c8cf11",
        "colab": {
          "base_uri": "https://localhost:8080/"
        }
      },
      "outputs": [
        {
          "output_type": "stream",
          "name": "stdout",
          "text": [
            "{33, 2, 100, 5, 6, 8, 400, 20}\n"
          ]
        }
      ],
      "source": [
        "# discard an item (similar remove - however remove will show an error if the item is not in the set)\n"
      ]
    }
  ],
  "metadata": {
    "kernelspec": {
      "display_name": "Python 3",
      "language": "python",
      "name": "python3"
    },
    "language_info": {
      "codemirror_mode": {
        "name": "ipython",
        "version": 3
      },
      "file_extension": ".py",
      "mimetype": "text/x-python",
      "name": "python",
      "nbconvert_exporter": "python",
      "pygments_lexer": "ipython3",
      "version": "3.8.5"
    },
    "colab": {
      "provenance": [],
      "collapsed_sections": [
        "3-bIGrB4bop-",
        "2gDFH22lbop_"
      ],
      "toc_visible": true,
      "include_colab_link": true
    }
  },
  "nbformat": 4,
  "nbformat_minor": 0
}